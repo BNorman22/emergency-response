{
 "cells": [
  {
   "cell_type": "code",
   "execution_count": 1,
   "metadata": {
    "collapsed": false
   },
   "outputs": [],
   "source": [
    "import os \n",
    "from dotenv import load_dotenv, find_dotenv\n",
    "import psycopg2\n",
    "import matplotlib.pyplot as plt\n",
    "import numpy as np\n",
    "import pandas as pd\n",
    "import seaborn as sns\n",
    "%matplotlib inline\n",
    "\n",
    "load_dotenv(find_dotenv())\n",
    "\n",
    "# connect to postgres\n",
    "def pgconnect():\n",
    "    try:\n",
    "        conn = psycopg2.connect(database=os.environ.get(\"erdatabase\"),\n",
    "                                user=os.environ.get(\"eruser\"),\n",
    "                                password = os.environ.get(\"erpassword\"),\n",
    "                                host=os.environ.get(\"erhost\"),\n",
    "                                port=os.environ.get(\"erport\"))\n",
    "        print(\"Opened database successfully\")\n",
    "        return conn\n",
    "    \n",
    "    except psycopg2.Error as e:\n",
    "        print(\"I am unable to connect to the database\")\n",
    "        print(e)\n",
    "        print(e.pgcode)\n",
    "        print(e.pgerror)\n",
    "        print(traceback.format_exc())\n",
    "        return None"
   ]
  },
  {
   "cell_type": "code",
   "execution_count": 2,
   "metadata": {
    "collapsed": true
   },
   "outputs": [],
   "source": [
    "def pgquery(QUERY):\n",
    "    '''\n",
    "    takes SQL query string, opens a cursor, and executes query in psql\n",
    "    '''\n",
    "    conn = pgconnect()\n",
    "    cur = conn.cursor()\n",
    "    \n",
    "    try:\n",
    "        print(\"SQL QUERY = \"+QUERY)\n",
    "        cur.execute(\"SET statement_timeout = 0\")\n",
    "        cur.execute(QUERY)\n",
    "        # Extract the column names and insert them in header\n",
    "        col_names = []\n",
    "        for elt in cur.description:\n",
    "            col_names.append(elt[0])    \n",
    "    \n",
    "        D = cur.fetchall() #convert query result to list\n",
    "        # Create the dataframe, passing in the list of col_names extracted from the description\n",
    "        conn.close()\n",
    "        return pd.DataFrame(D, columns=col_names)\n",
    "\n",
    "    except Exception as e:\n",
    "        print(e.pgerror)\n",
    "        conn.close()"
   ]
  },
  {
   "cell_type": "code",
   "execution_count": 21,
   "metadata": {
    "collapsed": true
   },
   "outputs": [],
   "source": [
    "# This function will return a reshaped dataframe that contains the following columns:\n",
    "#\n",
    "# incident_id | responderunit_id | responder_id | typenaturecode_id | fireblock | t1 | t2 |  ...\n",
    "# where t1, t2, ... , tn are the timedesc_id that we are looking for.\n",
    "#\n",
    "# usage: getTimeDataset(timedesc_dict)\n",
    "#\n",
    "# param: timedesc_dict - keys are the timedesc_ids you want\n",
    "#                      - values are the human descriptions for them \n",
    "# known issues: this eliminates \"responder_id\" (so we can probably just get rid of it in the query)\n",
    "#               responder_id values were inconsistent and strange, so I decided to just ignore them\n",
    "#               when doing anaylsis.\n",
    "def getTimeDataset(timedesc_dict):\n",
    "    RESPONSE_TIME_QUERY='''\n",
    "                        SELECT  I.incident_id, R.responderunit_id, T.responder_id,\n",
    "                                T.timedesc_id, I.typenaturecode_id, I.fireblock, I.fmarespcomp,\n",
    "                                T.realtime\n",
    "                        FROM incident as I\n",
    "                        INNER JOIN inctimes as T\n",
    "                                ON I.incident_id = T.incident_id\n",
    "                        INNER JOIN responder as R\n",
    "                                ON ( I.incident_id = R.incident_id AND T.responder_id = R.responder_id)\n",
    "                        WHERE T.timedesc_id IN ??TIMEDESC_IDS??\n",
    "                                AND T.responder_id IS NOT NULL;\n",
    "                        '''\n",
    "    \n",
    "    # add the timedesc_ids that we want to the query\n",
    "    timedesc_ids = str(tuple(timedesc_dict.keys())).replace(\"'\", \"\")\n",
    "    RESPONSE_TIME_QUERY = RESPONSE_TIME_QUERY.replace(\"??TIMEDESC_IDS??\", str(timedesc_ids))\n",
    "    \n",
    "    # execute the query: **this takes a pretty long time**\n",
    "    df = pgquery(RESPONSE_TIME_QUERY)\n",
    "    \n",
    "    # now reshape the data so that we can do analysis more easily. \n",
    "    table = df.pivot_table(index=['incident_id', 'responderunit_id', 'typenaturecode_id',\n",
    "                                  'fireblock', 'fmarespcomp'],\n",
    "                      columns='timedesc_id', values='realtime', aggfunc='first')\n",
    "    table.rename(columns=timedesc_dict, inplace=True)\n",
    "    \n",
    "    return table"
   ]
  },
  {
   "cell_type": "markdown",
   "metadata": {},
   "source": [
    "##### We are interested in calculating Response Time, which is the time it takes from 'Dispatch' to 'On Scene' for the firefighters."
   ]
  },
  {
   "cell_type": "code",
   "execution_count": 38,
   "metadata": {
    "collapsed": false
   },
   "outputs": [
    {
     "name": "stdout",
     "output_type": "stream",
     "text": [
      "Opened database successfully\n",
      "SQL QUERY = \n",
      "                        SELECT  I.incident_id, R.responderunit_id, T.responder_id,\n",
      "                                T.timedesc_id, I.typenaturecode_id, I.fireblock, I.fmarespcomp,\n",
      "                                T.realtime\n",
      "                        FROM incident as I\n",
      "                        INNER JOIN inctimes as T\n",
      "                                ON I.incident_id = T.incident_id\n",
      "                        INNER JOIN responder as R\n",
      "                                ON ( I.incident_id = R.incident_id AND T.responder_id = R.responder_id)\n",
      "                        WHERE T.timedesc_id IN (3, 5)\n",
      "                                AND T.responder_id IS NOT NULL;\n",
      "                        \n"
     ]
    }
   ],
   "source": [
    "d = {3 : 'Dispatched', 5 : 'On Scene'}\n",
    "table = getTimeDataset(d)"
   ]
  },
  {
   "cell_type": "code",
   "execution_count": 39,
   "metadata": {
    "collapsed": false
   },
   "outputs": [
    {
     "data": {
      "text/html": [
       "<div>\n",
       "<table border=\"1\" class=\"dataframe\">\n",
       "  <thead>\n",
       "    <tr style=\"text-align: right;\">\n",
       "      <th></th>\n",
       "      <th></th>\n",
       "      <th></th>\n",
       "      <th></th>\n",
       "      <th>timedesc_id</th>\n",
       "      <th>Dispatched</th>\n",
       "      <th>On Scene</th>\n",
       "    </tr>\n",
       "    <tr>\n",
       "      <th>incident_id</th>\n",
       "      <th>responderunit_id</th>\n",
       "      <th>typenaturecode_id</th>\n",
       "      <th>fireblock</th>\n",
       "      <th>fmarespcomp</th>\n",
       "      <th></th>\n",
       "      <th></th>\n",
       "    </tr>\n",
       "  </thead>\n",
       "  <tbody>\n",
       "    <tr>\n",
       "      <th rowspan=\"2\" valign=\"top\">754221</th>\n",
       "      <th>52.0</th>\n",
       "      <th>147.0</th>\n",
       "      <th>0375</th>\n",
       "      <th>03</th>\n",
       "      <td>2010-01-01 00:07:32</td>\n",
       "      <td>NaT</td>\n",
       "    </tr>\n",
       "    <tr>\n",
       "      <th>221.0</th>\n",
       "      <th>147.0</th>\n",
       "      <th>0375</th>\n",
       "      <th>03</th>\n",
       "      <td>2010-01-01 00:07:32</td>\n",
       "      <td>2010-01-01 00:09:53</td>\n",
       "    </tr>\n",
       "    <tr>\n",
       "      <th rowspan=\"2\" valign=\"top\">754222</th>\n",
       "      <th>58.0</th>\n",
       "      <th>134.0</th>\n",
       "      <th>0727</th>\n",
       "      <th>07</th>\n",
       "      <td>2010-01-01 00:04:24</td>\n",
       "      <td>2010-01-01 00:08:57</td>\n",
       "    </tr>\n",
       "    <tr>\n",
       "      <th>218.0</th>\n",
       "      <th>134.0</th>\n",
       "      <th>0727</th>\n",
       "      <th>07</th>\n",
       "      <td>2010-01-01 00:04:24</td>\n",
       "      <td>2010-01-01 00:07:14</td>\n",
       "    </tr>\n",
       "    <tr>\n",
       "      <th rowspan=\"2\" valign=\"top\">754224</th>\n",
       "      <th>232.0</th>\n",
       "      <th>21.0</th>\n",
       "      <th>1109</th>\n",
       "      <th>11</th>\n",
       "      <td>2010-01-01 00:14:15</td>\n",
       "      <td>2010-01-01 00:17:01</td>\n",
       "    </tr>\n",
       "    <tr>\n",
       "      <th>415.0</th>\n",
       "      <th>21.0</th>\n",
       "      <th>1109</th>\n",
       "      <th>11</th>\n",
       "      <td>2010-01-01 00:14:15</td>\n",
       "      <td>2010-01-01 00:17:36</td>\n",
       "    </tr>\n",
       "    <tr>\n",
       "      <th rowspan=\"2\" valign=\"top\">754225</th>\n",
       "      <th>120.0</th>\n",
       "      <th>125.0</th>\n",
       "      <th>2530</th>\n",
       "      <th>25</th>\n",
       "      <td>2010-01-01 00:16:21</td>\n",
       "      <td>NaT</td>\n",
       "    </tr>\n",
       "    <tr>\n",
       "      <th>229.0</th>\n",
       "      <th>125.0</th>\n",
       "      <th>2530</th>\n",
       "      <th>25</th>\n",
       "      <td>2010-01-01 00:16:21</td>\n",
       "      <td>2010-01-01 00:26:53</td>\n",
       "    </tr>\n",
       "    <tr>\n",
       "      <th rowspan=\"4\" valign=\"top\">754226</th>\n",
       "      <th>56.0</th>\n",
       "      <th>141.0</th>\n",
       "      <th>0133</th>\n",
       "      <th>01</th>\n",
       "      <td>2010-01-01 00:21:17</td>\n",
       "      <td>2010-01-01 00:27:50</td>\n",
       "    </tr>\n",
       "    <tr>\n",
       "      <th>123.0</th>\n",
       "      <th>141.0</th>\n",
       "      <th>0133</th>\n",
       "      <th>01</th>\n",
       "      <td>2010-01-01 00:22:11</td>\n",
       "      <td>2010-01-01 00:22:56</td>\n",
       "    </tr>\n",
       "    <tr>\n",
       "      <th>218.0</th>\n",
       "      <th>141.0</th>\n",
       "      <th>0133</th>\n",
       "      <th>01</th>\n",
       "      <td>2010-01-01 00:21:17</td>\n",
       "      <td>NaT</td>\n",
       "    </tr>\n",
       "    <tr>\n",
       "      <th>230.0</th>\n",
       "      <th>141.0</th>\n",
       "      <th>0133</th>\n",
       "      <th>01</th>\n",
       "      <td>2010-01-01 00:23:33</td>\n",
       "      <td>2010-01-01 00:30:27</td>\n",
       "    </tr>\n",
       "    <tr>\n",
       "      <th rowspan=\"2\" valign=\"top\">754227</th>\n",
       "      <th>30.0</th>\n",
       "      <th>141.0</th>\n",
       "      <th>0109</th>\n",
       "      <th>01</th>\n",
       "      <td>2010-01-01 00:09:02</td>\n",
       "      <td>2010-01-01 00:17:39</td>\n",
       "    </tr>\n",
       "    <tr>\n",
       "      <th>215.0</th>\n",
       "      <th>141.0</th>\n",
       "      <th>0109</th>\n",
       "      <th>01</th>\n",
       "      <td>2010-01-01 00:09:02</td>\n",
       "      <td>2010-01-01 00:19:38</td>\n",
       "    </tr>\n",
       "    <tr>\n",
       "      <th rowspan=\"2\" valign=\"top\">754228</th>\n",
       "      <th>33.0</th>\n",
       "      <th>12.0</th>\n",
       "      <th>0127</th>\n",
       "      <th>01</th>\n",
       "      <td>2010-01-01 00:17:31</td>\n",
       "      <td>NaT</td>\n",
       "    </tr>\n",
       "    <tr>\n",
       "      <th>116.0</th>\n",
       "      <th>12.0</th>\n",
       "      <th>0127</th>\n",
       "      <th>01</th>\n",
       "      <td>2010-01-01 00:17:31</td>\n",
       "      <td>2010-01-01 00:23:24</td>\n",
       "    </tr>\n",
       "    <tr>\n",
       "      <th rowspan=\"3\" valign=\"top\">754229</th>\n",
       "      <th>46.0</th>\n",
       "      <th>147.0</th>\n",
       "      <th>2530</th>\n",
       "      <th>25</th>\n",
       "      <td>2010-01-01 00:19:21</td>\n",
       "      <td>2010-01-01 00:25:06</td>\n",
       "    </tr>\n",
       "    <tr>\n",
       "      <th>218.0</th>\n",
       "      <th>147.0</th>\n",
       "      <th>2530</th>\n",
       "      <th>25</th>\n",
       "      <td>2010-01-01 00:21:26</td>\n",
       "      <td>NaT</td>\n",
       "    </tr>\n",
       "    <tr>\n",
       "      <th>230.0</th>\n",
       "      <th>147.0</th>\n",
       "      <th>2530</th>\n",
       "      <th>25</th>\n",
       "      <td>2010-01-01 00:19:21</td>\n",
       "      <td>NaT</td>\n",
       "    </tr>\n",
       "    <tr>\n",
       "      <th>754230</th>\n",
       "      <th>116.0</th>\n",
       "      <th>155.0</th>\n",
       "      <th>0127</th>\n",
       "      <th>01</th>\n",
       "      <td>2010-01-01 00:25:34</td>\n",
       "      <td>2010-01-01 00:25:34</td>\n",
       "    </tr>\n",
       "  </tbody>\n",
       "</table>\n",
       "</div>"
      ],
      "text/plain": [
       "timedesc_id                                                                   Dispatched  \\\n",
       "incident_id responderunit_id typenaturecode_id fireblock fmarespcomp                       \n",
       "754221      52.0             147.0             0375      03          2010-01-01 00:07:32   \n",
       "            221.0            147.0             0375      03          2010-01-01 00:07:32   \n",
       "754222      58.0             134.0             0727      07          2010-01-01 00:04:24   \n",
       "            218.0            134.0             0727      07          2010-01-01 00:04:24   \n",
       "754224      232.0            21.0              1109      11          2010-01-01 00:14:15   \n",
       "            415.0            21.0              1109      11          2010-01-01 00:14:15   \n",
       "754225      120.0            125.0             2530      25          2010-01-01 00:16:21   \n",
       "            229.0            125.0             2530      25          2010-01-01 00:16:21   \n",
       "754226      56.0             141.0             0133      01          2010-01-01 00:21:17   \n",
       "            123.0            141.0             0133      01          2010-01-01 00:22:11   \n",
       "            218.0            141.0             0133      01          2010-01-01 00:21:17   \n",
       "            230.0            141.0             0133      01          2010-01-01 00:23:33   \n",
       "754227      30.0             141.0             0109      01          2010-01-01 00:09:02   \n",
       "            215.0            141.0             0109      01          2010-01-01 00:09:02   \n",
       "754228      33.0             12.0              0127      01          2010-01-01 00:17:31   \n",
       "            116.0            12.0              0127      01          2010-01-01 00:17:31   \n",
       "754229      46.0             147.0             2530      25          2010-01-01 00:19:21   \n",
       "            218.0            147.0             2530      25          2010-01-01 00:21:26   \n",
       "            230.0            147.0             2530      25          2010-01-01 00:19:21   \n",
       "754230      116.0            155.0             0127      01          2010-01-01 00:25:34   \n",
       "\n",
       "timedesc_id                                                                     On Scene  \n",
       "incident_id responderunit_id typenaturecode_id fireblock fmarespcomp                      \n",
       "754221      52.0             147.0             0375      03                          NaT  \n",
       "            221.0            147.0             0375      03          2010-01-01 00:09:53  \n",
       "754222      58.0             134.0             0727      07          2010-01-01 00:08:57  \n",
       "            218.0            134.0             0727      07          2010-01-01 00:07:14  \n",
       "754224      232.0            21.0              1109      11          2010-01-01 00:17:01  \n",
       "            415.0            21.0              1109      11          2010-01-01 00:17:36  \n",
       "754225      120.0            125.0             2530      25                          NaT  \n",
       "            229.0            125.0             2530      25          2010-01-01 00:26:53  \n",
       "754226      56.0             141.0             0133      01          2010-01-01 00:27:50  \n",
       "            123.0            141.0             0133      01          2010-01-01 00:22:56  \n",
       "            218.0            141.0             0133      01                          NaT  \n",
       "            230.0            141.0             0133      01          2010-01-01 00:30:27  \n",
       "754227      30.0             141.0             0109      01          2010-01-01 00:17:39  \n",
       "            215.0            141.0             0109      01          2010-01-01 00:19:38  \n",
       "754228      33.0             12.0              0127      01                          NaT  \n",
       "            116.0            12.0              0127      01          2010-01-01 00:23:24  \n",
       "754229      46.0             147.0             2530      25          2010-01-01 00:25:06  \n",
       "            218.0            147.0             2530      25                          NaT  \n",
       "            230.0            147.0             2530      25                          NaT  \n",
       "754230      116.0            155.0             0127      01          2010-01-01 00:25:34  "
      ]
     },
     "execution_count": 39,
     "metadata": {},
     "output_type": "execute_result"
    }
   ],
   "source": [
    "# take a look at the results.\n",
    "table.head(20)"
   ]
  },
  {
   "cell_type": "code",
   "execution_count": 40,
   "metadata": {
    "collapsed": false
   },
   "outputs": [
    {
     "data": {
      "text/html": [
       "<div>\n",
       "<table border=\"1\" class=\"dataframe\">\n",
       "  <thead>\n",
       "    <tr style=\"text-align: right;\">\n",
       "      <th></th>\n",
       "      <th></th>\n",
       "      <th></th>\n",
       "      <th></th>\n",
       "      <th>timedesc_id</th>\n",
       "      <th>Dispatched</th>\n",
       "      <th>On Scene</th>\n",
       "      <th>difference</th>\n",
       "    </tr>\n",
       "    <tr>\n",
       "      <th>incident_id</th>\n",
       "      <th>responderunit_id</th>\n",
       "      <th>typenaturecode_id</th>\n",
       "      <th>fireblock</th>\n",
       "      <th>fmarespcomp</th>\n",
       "      <th></th>\n",
       "      <th></th>\n",
       "      <th></th>\n",
       "    </tr>\n",
       "  </thead>\n",
       "  <tbody>\n",
       "    <tr>\n",
       "      <th rowspan=\"2\" valign=\"top\">754221</th>\n",
       "      <th>52.0</th>\n",
       "      <th>147.0</th>\n",
       "      <th>0375</th>\n",
       "      <th>03</th>\n",
       "      <td>2010-01-01 00:07:32</td>\n",
       "      <td>NaT</td>\n",
       "      <td>NaT</td>\n",
       "    </tr>\n",
       "    <tr>\n",
       "      <th>221.0</th>\n",
       "      <th>147.0</th>\n",
       "      <th>0375</th>\n",
       "      <th>03</th>\n",
       "      <td>2010-01-01 00:07:32</td>\n",
       "      <td>2010-01-01 00:09:53</td>\n",
       "      <td>00:02:21</td>\n",
       "    </tr>\n",
       "    <tr>\n",
       "      <th rowspan=\"2\" valign=\"top\">754222</th>\n",
       "      <th>58.0</th>\n",
       "      <th>134.0</th>\n",
       "      <th>0727</th>\n",
       "      <th>07</th>\n",
       "      <td>2010-01-01 00:04:24</td>\n",
       "      <td>2010-01-01 00:08:57</td>\n",
       "      <td>00:04:33</td>\n",
       "    </tr>\n",
       "    <tr>\n",
       "      <th>218.0</th>\n",
       "      <th>134.0</th>\n",
       "      <th>0727</th>\n",
       "      <th>07</th>\n",
       "      <td>2010-01-01 00:04:24</td>\n",
       "      <td>2010-01-01 00:07:14</td>\n",
       "      <td>00:02:50</td>\n",
       "    </tr>\n",
       "    <tr>\n",
       "      <th rowspan=\"2\" valign=\"top\">754224</th>\n",
       "      <th>232.0</th>\n",
       "      <th>21.0</th>\n",
       "      <th>1109</th>\n",
       "      <th>11</th>\n",
       "      <td>2010-01-01 00:14:15</td>\n",
       "      <td>2010-01-01 00:17:01</td>\n",
       "      <td>00:02:46</td>\n",
       "    </tr>\n",
       "    <tr>\n",
       "      <th>415.0</th>\n",
       "      <th>21.0</th>\n",
       "      <th>1109</th>\n",
       "      <th>11</th>\n",
       "      <td>2010-01-01 00:14:15</td>\n",
       "      <td>2010-01-01 00:17:36</td>\n",
       "      <td>00:03:21</td>\n",
       "    </tr>\n",
       "    <tr>\n",
       "      <th rowspan=\"2\" valign=\"top\">754225</th>\n",
       "      <th>120.0</th>\n",
       "      <th>125.0</th>\n",
       "      <th>2530</th>\n",
       "      <th>25</th>\n",
       "      <td>2010-01-01 00:16:21</td>\n",
       "      <td>NaT</td>\n",
       "      <td>NaT</td>\n",
       "    </tr>\n",
       "    <tr>\n",
       "      <th>229.0</th>\n",
       "      <th>125.0</th>\n",
       "      <th>2530</th>\n",
       "      <th>25</th>\n",
       "      <td>2010-01-01 00:16:21</td>\n",
       "      <td>2010-01-01 00:26:53</td>\n",
       "      <td>00:10:32</td>\n",
       "    </tr>\n",
       "    <tr>\n",
       "      <th rowspan=\"4\" valign=\"top\">754226</th>\n",
       "      <th>56.0</th>\n",
       "      <th>141.0</th>\n",
       "      <th>0133</th>\n",
       "      <th>01</th>\n",
       "      <td>2010-01-01 00:21:17</td>\n",
       "      <td>2010-01-01 00:27:50</td>\n",
       "      <td>00:06:33</td>\n",
       "    </tr>\n",
       "    <tr>\n",
       "      <th>123.0</th>\n",
       "      <th>141.0</th>\n",
       "      <th>0133</th>\n",
       "      <th>01</th>\n",
       "      <td>2010-01-01 00:22:11</td>\n",
       "      <td>2010-01-01 00:22:56</td>\n",
       "      <td>00:00:45</td>\n",
       "    </tr>\n",
       "    <tr>\n",
       "      <th>218.0</th>\n",
       "      <th>141.0</th>\n",
       "      <th>0133</th>\n",
       "      <th>01</th>\n",
       "      <td>2010-01-01 00:21:17</td>\n",
       "      <td>NaT</td>\n",
       "      <td>NaT</td>\n",
       "    </tr>\n",
       "    <tr>\n",
       "      <th>230.0</th>\n",
       "      <th>141.0</th>\n",
       "      <th>0133</th>\n",
       "      <th>01</th>\n",
       "      <td>2010-01-01 00:23:33</td>\n",
       "      <td>2010-01-01 00:30:27</td>\n",
       "      <td>00:06:54</td>\n",
       "    </tr>\n",
       "    <tr>\n",
       "      <th rowspan=\"2\" valign=\"top\">754227</th>\n",
       "      <th>30.0</th>\n",
       "      <th>141.0</th>\n",
       "      <th>0109</th>\n",
       "      <th>01</th>\n",
       "      <td>2010-01-01 00:09:02</td>\n",
       "      <td>2010-01-01 00:17:39</td>\n",
       "      <td>00:08:37</td>\n",
       "    </tr>\n",
       "    <tr>\n",
       "      <th>215.0</th>\n",
       "      <th>141.0</th>\n",
       "      <th>0109</th>\n",
       "      <th>01</th>\n",
       "      <td>2010-01-01 00:09:02</td>\n",
       "      <td>2010-01-01 00:19:38</td>\n",
       "      <td>00:10:36</td>\n",
       "    </tr>\n",
       "    <tr>\n",
       "      <th rowspan=\"2\" valign=\"top\">754228</th>\n",
       "      <th>33.0</th>\n",
       "      <th>12.0</th>\n",
       "      <th>0127</th>\n",
       "      <th>01</th>\n",
       "      <td>2010-01-01 00:17:31</td>\n",
       "      <td>NaT</td>\n",
       "      <td>NaT</td>\n",
       "    </tr>\n",
       "    <tr>\n",
       "      <th>116.0</th>\n",
       "      <th>12.0</th>\n",
       "      <th>0127</th>\n",
       "      <th>01</th>\n",
       "      <td>2010-01-01 00:17:31</td>\n",
       "      <td>2010-01-01 00:23:24</td>\n",
       "      <td>00:05:53</td>\n",
       "    </tr>\n",
       "    <tr>\n",
       "      <th rowspan=\"3\" valign=\"top\">754229</th>\n",
       "      <th>46.0</th>\n",
       "      <th>147.0</th>\n",
       "      <th>2530</th>\n",
       "      <th>25</th>\n",
       "      <td>2010-01-01 00:19:21</td>\n",
       "      <td>2010-01-01 00:25:06</td>\n",
       "      <td>00:05:45</td>\n",
       "    </tr>\n",
       "    <tr>\n",
       "      <th>218.0</th>\n",
       "      <th>147.0</th>\n",
       "      <th>2530</th>\n",
       "      <th>25</th>\n",
       "      <td>2010-01-01 00:21:26</td>\n",
       "      <td>NaT</td>\n",
       "      <td>NaT</td>\n",
       "    </tr>\n",
       "    <tr>\n",
       "      <th>230.0</th>\n",
       "      <th>147.0</th>\n",
       "      <th>2530</th>\n",
       "      <th>25</th>\n",
       "      <td>2010-01-01 00:19:21</td>\n",
       "      <td>NaT</td>\n",
       "      <td>NaT</td>\n",
       "    </tr>\n",
       "    <tr>\n",
       "      <th>754230</th>\n",
       "      <th>116.0</th>\n",
       "      <th>155.0</th>\n",
       "      <th>0127</th>\n",
       "      <th>01</th>\n",
       "      <td>2010-01-01 00:25:34</td>\n",
       "      <td>2010-01-01 00:25:34</td>\n",
       "      <td>00:00:00</td>\n",
       "    </tr>\n",
       "  </tbody>\n",
       "</table>\n",
       "</div>"
      ],
      "text/plain": [
       "timedesc_id                                                                   Dispatched  \\\n",
       "incident_id responderunit_id typenaturecode_id fireblock fmarespcomp                       \n",
       "754221      52.0             147.0             0375      03          2010-01-01 00:07:32   \n",
       "            221.0            147.0             0375      03          2010-01-01 00:07:32   \n",
       "754222      58.0             134.0             0727      07          2010-01-01 00:04:24   \n",
       "            218.0            134.0             0727      07          2010-01-01 00:04:24   \n",
       "754224      232.0            21.0              1109      11          2010-01-01 00:14:15   \n",
       "            415.0            21.0              1109      11          2010-01-01 00:14:15   \n",
       "754225      120.0            125.0             2530      25          2010-01-01 00:16:21   \n",
       "            229.0            125.0             2530      25          2010-01-01 00:16:21   \n",
       "754226      56.0             141.0             0133      01          2010-01-01 00:21:17   \n",
       "            123.0            141.0             0133      01          2010-01-01 00:22:11   \n",
       "            218.0            141.0             0133      01          2010-01-01 00:21:17   \n",
       "            230.0            141.0             0133      01          2010-01-01 00:23:33   \n",
       "754227      30.0             141.0             0109      01          2010-01-01 00:09:02   \n",
       "            215.0            141.0             0109      01          2010-01-01 00:09:02   \n",
       "754228      33.0             12.0              0127      01          2010-01-01 00:17:31   \n",
       "            116.0            12.0              0127      01          2010-01-01 00:17:31   \n",
       "754229      46.0             147.0             2530      25          2010-01-01 00:19:21   \n",
       "            218.0            147.0             2530      25          2010-01-01 00:21:26   \n",
       "            230.0            147.0             2530      25          2010-01-01 00:19:21   \n",
       "754230      116.0            155.0             0127      01          2010-01-01 00:25:34   \n",
       "\n",
       "timedesc_id                                                                     On Scene  \\\n",
       "incident_id responderunit_id typenaturecode_id fireblock fmarespcomp                       \n",
       "754221      52.0             147.0             0375      03                          NaT   \n",
       "            221.0            147.0             0375      03          2010-01-01 00:09:53   \n",
       "754222      58.0             134.0             0727      07          2010-01-01 00:08:57   \n",
       "            218.0            134.0             0727      07          2010-01-01 00:07:14   \n",
       "754224      232.0            21.0              1109      11          2010-01-01 00:17:01   \n",
       "            415.0            21.0              1109      11          2010-01-01 00:17:36   \n",
       "754225      120.0            125.0             2530      25                          NaT   \n",
       "            229.0            125.0             2530      25          2010-01-01 00:26:53   \n",
       "754226      56.0             141.0             0133      01          2010-01-01 00:27:50   \n",
       "            123.0            141.0             0133      01          2010-01-01 00:22:56   \n",
       "            218.0            141.0             0133      01                          NaT   \n",
       "            230.0            141.0             0133      01          2010-01-01 00:30:27   \n",
       "754227      30.0             141.0             0109      01          2010-01-01 00:17:39   \n",
       "            215.0            141.0             0109      01          2010-01-01 00:19:38   \n",
       "754228      33.0             12.0              0127      01                          NaT   \n",
       "            116.0            12.0              0127      01          2010-01-01 00:23:24   \n",
       "754229      46.0             147.0             2530      25          2010-01-01 00:25:06   \n",
       "            218.0            147.0             2530      25                          NaT   \n",
       "            230.0            147.0             2530      25                          NaT   \n",
       "754230      116.0            155.0             0127      01          2010-01-01 00:25:34   \n",
       "\n",
       "timedesc_id                                                           difference  \n",
       "incident_id responderunit_id typenaturecode_id fireblock fmarespcomp              \n",
       "754221      52.0             147.0             0375      03                  NaT  \n",
       "            221.0            147.0             0375      03             00:02:21  \n",
       "754222      58.0             134.0             0727      07             00:04:33  \n",
       "            218.0            134.0             0727      07             00:02:50  \n",
       "754224      232.0            21.0              1109      11             00:02:46  \n",
       "            415.0            21.0              1109      11             00:03:21  \n",
       "754225      120.0            125.0             2530      25                  NaT  \n",
       "            229.0            125.0             2530      25             00:10:32  \n",
       "754226      56.0             141.0             0133      01             00:06:33  \n",
       "            123.0            141.0             0133      01             00:00:45  \n",
       "            218.0            141.0             0133      01                  NaT  \n",
       "            230.0            141.0             0133      01             00:06:54  \n",
       "754227      30.0             141.0             0109      01             00:08:37  \n",
       "            215.0            141.0             0109      01             00:10:36  \n",
       "754228      33.0             12.0              0127      01                  NaT  \n",
       "            116.0            12.0              0127      01             00:05:53  \n",
       "754229      46.0             147.0             2530      25             00:05:45  \n",
       "            218.0            147.0             2530      25                  NaT  \n",
       "            230.0            147.0             2530      25                  NaT  \n",
       "754230      116.0            155.0             0127      01             00:00:00  "
      ]
     },
     "execution_count": 40,
     "metadata": {},
     "output_type": "execute_result"
    }
   ],
   "source": [
    "table[\"difference\"] = table['On Scene'].sub(table['Dispatched'], axis = 0)\n",
    "table[\"difference\"].astype('timedelta64[s]')\n",
    "table.head(20)"
   ]
  },
  {
   "cell_type": "code",
   "execution_count": 41,
   "metadata": {
    "collapsed": false
   },
   "outputs": [
    {
     "data": {
      "text/html": [
       "<div>\n",
       "<table border=\"1\" class=\"dataframe\">\n",
       "  <thead>\n",
       "    <tr style=\"text-align: right;\">\n",
       "      <th></th>\n",
       "      <th></th>\n",
       "      <th></th>\n",
       "      <th></th>\n",
       "      <th>timedesc_id</th>\n",
       "      <th>Dispatched</th>\n",
       "      <th>On Scene</th>\n",
       "      <th>difference</th>\n",
       "      <th>diff_min</th>\n",
       "    </tr>\n",
       "    <tr>\n",
       "      <th>incident_id</th>\n",
       "      <th>responderunit_id</th>\n",
       "      <th>typenaturecode_id</th>\n",
       "      <th>fireblock</th>\n",
       "      <th>fmarespcomp</th>\n",
       "      <th></th>\n",
       "      <th></th>\n",
       "      <th></th>\n",
       "      <th></th>\n",
       "    </tr>\n",
       "  </thead>\n",
       "  <tbody>\n",
       "    <tr>\n",
       "      <th rowspan=\"2\" valign=\"top\">754221</th>\n",
       "      <th>52.0</th>\n",
       "      <th>147.0</th>\n",
       "      <th>0375</th>\n",
       "      <th>03</th>\n",
       "      <td>2010-01-01 00:07:32</td>\n",
       "      <td>NaT</td>\n",
       "      <td>NaT</td>\n",
       "      <td>NaN</td>\n",
       "    </tr>\n",
       "    <tr>\n",
       "      <th>221.0</th>\n",
       "      <th>147.0</th>\n",
       "      <th>0375</th>\n",
       "      <th>03</th>\n",
       "      <td>2010-01-01 00:07:32</td>\n",
       "      <td>2010-01-01 00:09:53</td>\n",
       "      <td>00:02:21</td>\n",
       "      <td>2.350000</td>\n",
       "    </tr>\n",
       "    <tr>\n",
       "      <th rowspan=\"2\" valign=\"top\">754222</th>\n",
       "      <th>58.0</th>\n",
       "      <th>134.0</th>\n",
       "      <th>0727</th>\n",
       "      <th>07</th>\n",
       "      <td>2010-01-01 00:04:24</td>\n",
       "      <td>2010-01-01 00:08:57</td>\n",
       "      <td>00:04:33</td>\n",
       "      <td>4.550000</td>\n",
       "    </tr>\n",
       "    <tr>\n",
       "      <th>218.0</th>\n",
       "      <th>134.0</th>\n",
       "      <th>0727</th>\n",
       "      <th>07</th>\n",
       "      <td>2010-01-01 00:04:24</td>\n",
       "      <td>2010-01-01 00:07:14</td>\n",
       "      <td>00:02:50</td>\n",
       "      <td>2.833333</td>\n",
       "    </tr>\n",
       "    <tr>\n",
       "      <th rowspan=\"2\" valign=\"top\">754224</th>\n",
       "      <th>232.0</th>\n",
       "      <th>21.0</th>\n",
       "      <th>1109</th>\n",
       "      <th>11</th>\n",
       "      <td>2010-01-01 00:14:15</td>\n",
       "      <td>2010-01-01 00:17:01</td>\n",
       "      <td>00:02:46</td>\n",
       "      <td>2.766667</td>\n",
       "    </tr>\n",
       "    <tr>\n",
       "      <th>415.0</th>\n",
       "      <th>21.0</th>\n",
       "      <th>1109</th>\n",
       "      <th>11</th>\n",
       "      <td>2010-01-01 00:14:15</td>\n",
       "      <td>2010-01-01 00:17:36</td>\n",
       "      <td>00:03:21</td>\n",
       "      <td>3.350000</td>\n",
       "    </tr>\n",
       "    <tr>\n",
       "      <th rowspan=\"2\" valign=\"top\">754225</th>\n",
       "      <th>120.0</th>\n",
       "      <th>125.0</th>\n",
       "      <th>2530</th>\n",
       "      <th>25</th>\n",
       "      <td>2010-01-01 00:16:21</td>\n",
       "      <td>NaT</td>\n",
       "      <td>NaT</td>\n",
       "      <td>NaN</td>\n",
       "    </tr>\n",
       "    <tr>\n",
       "      <th>229.0</th>\n",
       "      <th>125.0</th>\n",
       "      <th>2530</th>\n",
       "      <th>25</th>\n",
       "      <td>2010-01-01 00:16:21</td>\n",
       "      <td>2010-01-01 00:26:53</td>\n",
       "      <td>00:10:32</td>\n",
       "      <td>10.533333</td>\n",
       "    </tr>\n",
       "    <tr>\n",
       "      <th rowspan=\"2\" valign=\"top\">754226</th>\n",
       "      <th>56.0</th>\n",
       "      <th>141.0</th>\n",
       "      <th>0133</th>\n",
       "      <th>01</th>\n",
       "      <td>2010-01-01 00:21:17</td>\n",
       "      <td>2010-01-01 00:27:50</td>\n",
       "      <td>00:06:33</td>\n",
       "      <td>6.550000</td>\n",
       "    </tr>\n",
       "    <tr>\n",
       "      <th>123.0</th>\n",
       "      <th>141.0</th>\n",
       "      <th>0133</th>\n",
       "      <th>01</th>\n",
       "      <td>2010-01-01 00:22:11</td>\n",
       "      <td>2010-01-01 00:22:56</td>\n",
       "      <td>00:00:45</td>\n",
       "      <td>0.750000</td>\n",
       "    </tr>\n",
       "  </tbody>\n",
       "</table>\n",
       "</div>"
      ],
      "text/plain": [
       "timedesc_id                                                                   Dispatched  \\\n",
       "incident_id responderunit_id typenaturecode_id fireblock fmarespcomp                       \n",
       "754221      52.0             147.0             0375      03          2010-01-01 00:07:32   \n",
       "            221.0            147.0             0375      03          2010-01-01 00:07:32   \n",
       "754222      58.0             134.0             0727      07          2010-01-01 00:04:24   \n",
       "            218.0            134.0             0727      07          2010-01-01 00:04:24   \n",
       "754224      232.0            21.0              1109      11          2010-01-01 00:14:15   \n",
       "            415.0            21.0              1109      11          2010-01-01 00:14:15   \n",
       "754225      120.0            125.0             2530      25          2010-01-01 00:16:21   \n",
       "            229.0            125.0             2530      25          2010-01-01 00:16:21   \n",
       "754226      56.0             141.0             0133      01          2010-01-01 00:21:17   \n",
       "            123.0            141.0             0133      01          2010-01-01 00:22:11   \n",
       "\n",
       "timedesc_id                                                                     On Scene  \\\n",
       "incident_id responderunit_id typenaturecode_id fireblock fmarespcomp                       \n",
       "754221      52.0             147.0             0375      03                          NaT   \n",
       "            221.0            147.0             0375      03          2010-01-01 00:09:53   \n",
       "754222      58.0             134.0             0727      07          2010-01-01 00:08:57   \n",
       "            218.0            134.0             0727      07          2010-01-01 00:07:14   \n",
       "754224      232.0            21.0              1109      11          2010-01-01 00:17:01   \n",
       "            415.0            21.0              1109      11          2010-01-01 00:17:36   \n",
       "754225      120.0            125.0             2530      25                          NaT   \n",
       "            229.0            125.0             2530      25          2010-01-01 00:26:53   \n",
       "754226      56.0             141.0             0133      01          2010-01-01 00:27:50   \n",
       "            123.0            141.0             0133      01          2010-01-01 00:22:56   \n",
       "\n",
       "timedesc_id                                                           difference  \\\n",
       "incident_id responderunit_id typenaturecode_id fireblock fmarespcomp               \n",
       "754221      52.0             147.0             0375      03                  NaT   \n",
       "            221.0            147.0             0375      03             00:02:21   \n",
       "754222      58.0             134.0             0727      07             00:04:33   \n",
       "            218.0            134.0             0727      07             00:02:50   \n",
       "754224      232.0            21.0              1109      11             00:02:46   \n",
       "            415.0            21.0              1109      11             00:03:21   \n",
       "754225      120.0            125.0             2530      25                  NaT   \n",
       "            229.0            125.0             2530      25             00:10:32   \n",
       "754226      56.0             141.0             0133      01             00:06:33   \n",
       "            123.0            141.0             0133      01             00:00:45   \n",
       "\n",
       "timedesc_id                                                            diff_min  \n",
       "incident_id responderunit_id typenaturecode_id fireblock fmarespcomp             \n",
       "754221      52.0             147.0             0375      03                 NaN  \n",
       "            221.0            147.0             0375      03            2.350000  \n",
       "754222      58.0             134.0             0727      07            4.550000  \n",
       "            218.0            134.0             0727      07            2.833333  \n",
       "754224      232.0            21.0              1109      11            2.766667  \n",
       "            415.0            21.0              1109      11            3.350000  \n",
       "754225      120.0            125.0             2530      25                 NaN  \n",
       "            229.0            125.0             2530      25           10.533333  \n",
       "754226      56.0             141.0             0133      01            6.550000  \n",
       "            123.0            141.0             0133      01            0.750000  "
      ]
     },
     "execution_count": 41,
     "metadata": {},
     "output_type": "execute_result"
    }
   ],
   "source": [
    "table[\"diff_min\"] = (table[\"difference\"] / pd.Timedelta(minutes=1, seconds=0))\n",
    "table.head(10)"
   ]
  },
  {
   "cell_type": "code",
   "execution_count": 42,
   "metadata": {
    "collapsed": false
   },
   "outputs": [
    {
     "data": {
      "text/html": [
       "<div>\n",
       "<table border=\"1\" class=\"dataframe\">\n",
       "  <thead>\n",
       "    <tr style=\"text-align: right;\">\n",
       "      <th>timedesc_id</th>\n",
       "      <th>difference</th>\n",
       "      <th>diff_min</th>\n",
       "    </tr>\n",
       "  </thead>\n",
       "  <tbody>\n",
       "    <tr>\n",
       "      <th>count</th>\n",
       "      <td>889921</td>\n",
       "      <td>8.899210e+05</td>\n",
       "    </tr>\n",
       "    <tr>\n",
       "      <th>mean</th>\n",
       "      <td>-1 days +23:38:10.949737</td>\n",
       "      <td>-2.181750e+01</td>\n",
       "    </tr>\n",
       "    <tr>\n",
       "      <th>std</th>\n",
       "      <td>17 days 01:23:53.266197</td>\n",
       "      <td>2.456389e+04</td>\n",
       "    </tr>\n",
       "    <tr>\n",
       "      <th>min</th>\n",
       "      <td>-16071 days +00:03:54</td>\n",
       "      <td>-2.314224e+07</td>\n",
       "    </tr>\n",
       "    <tr>\n",
       "      <th>25%</th>\n",
       "      <td>0 days 00:03:58</td>\n",
       "      <td>3.966667e+00</td>\n",
       "    </tr>\n",
       "    <tr>\n",
       "      <th>50%</th>\n",
       "      <td>0 days 00:05:10</td>\n",
       "      <td>5.166667e+00</td>\n",
       "    </tr>\n",
       "    <tr>\n",
       "      <th>75%</th>\n",
       "      <td>0 days 00:06:38</td>\n",
       "      <td>6.633333e+00</td>\n",
       "    </tr>\n",
       "    <tr>\n",
       "      <th>max</th>\n",
       "      <td>70 days 06:14:30</td>\n",
       "      <td>1.011745e+05</td>\n",
       "    </tr>\n",
       "  </tbody>\n",
       "</table>\n",
       "</div>"
      ],
      "text/plain": [
       "timedesc_id                difference      diff_min\n",
       "count                          889921  8.899210e+05\n",
       "mean         -1 days +23:38:10.949737 -2.181750e+01\n",
       "std           17 days 01:23:53.266197  2.456389e+04\n",
       "min             -16071 days +00:03:54 -2.314224e+07\n",
       "25%                   0 days 00:03:58  3.966667e+00\n",
       "50%                   0 days 00:05:10  5.166667e+00\n",
       "75%                   0 days 00:06:38  6.633333e+00\n",
       "max                  70 days 06:14:30  1.011745e+05"
      ]
     },
     "execution_count": 42,
     "metadata": {},
     "output_type": "execute_result"
    }
   ],
   "source": [
    "table.describe()"
   ]
  },
  {
   "cell_type": "markdown",
   "metadata": {},
   "source": [
    "#### Hmm.. It is interesting that we have negative time differences.. let's investigate those."
   ]
  },
  {
   "cell_type": "code",
   "execution_count": 43,
   "metadata": {
    "collapsed": false
   },
   "outputs": [
    {
     "data": {
      "text/plain": [
       "(196, 4)"
      ]
     },
     "execution_count": 43,
     "metadata": {},
     "output_type": "execute_result"
    }
   ],
   "source": [
    "neg = table.loc[table['diff_min'] < 0.0]\n",
    "neg.shape"
   ]
  },
  {
   "cell_type": "markdown",
   "metadata": {},
   "source": [
    "#### Ok, so there are only a few rows with negative values (a couple hundred out of about a million rows). Let's just ignore those for now, and possibly look into them later."
   ]
  },
  {
   "cell_type": "code",
   "execution_count": 28,
   "metadata": {
    "collapsed": false
   },
   "outputs": [],
   "source": [
    "# keep only the response times from 0 minutes to a day\n",
    "table = table.loc[table['diff_min'] >= 0.0].loc[table['diff_min'] <= 1440] # less than a day"
   ]
  },
  {
   "cell_type": "code",
   "execution_count": 29,
   "metadata": {
    "collapsed": false
   },
   "outputs": [
    {
     "name": "stderr",
     "output_type": "stream",
     "text": [
      "/home/vagrant/miniconda3/envs/data-science/lib/python3.5/site-packages/statsmodels/nonparametric/kdetools.py:20: VisibleDeprecationWarning: using a non-integer number instead of an integer will result in an error in the future\n",
      "  y = X[:m/2+1] + np.r_[0,X[m/2+1:],0]*1j\n"
     ]
    },
    {
     "data": {
      "text/plain": [
       "<matplotlib.axes._subplots.AxesSubplot at 0x7fb7fd19c588>"
      ]
     },
     "execution_count": 29,
     "metadata": {},
     "output_type": "execute_result"
    },
    {
     "data": {
      "image/png": "[encoded data removed]",
      "text/plain": [
       "<matplotlib.figure.Figure at 0x7fb801d3a550>"
      ]
     },
     "metadata": {},
     "output_type": "display_data"
    }
   ],
   "source": [
    "sns.distplot(table['diff_min'])"
   ]
  },
  {
   "cell_type": "code",
   "execution_count": 30,
   "metadata": {
    "collapsed": false,
    "scrolled": true
   },
   "outputs": [
    {
     "name": "stderr",
     "output_type": "stream",
     "text": [
      "/home/vagrant/miniconda3/envs/data-science/lib/python3.5/site-packages/statsmodels/nonparametric/kdetools.py:20: VisibleDeprecationWarning: using a non-integer number instead of an integer will result in an error in the future\n",
      "  y = X[:m/2+1] + np.r_[0,X[m/2+1:],0]*1j\n"
     ]
    },
    {
     "data": {
      "text/plain": [
       "<matplotlib.axes._subplots.AxesSubplot at 0x7fb801d3aba8>"
      ]
     },
     "execution_count": 30,
     "metadata": {},
     "output_type": "execute_result"
    },
    {
     "data": {
      "image/png": "[encoded data removed]",
      "text/plain": [
       "<matplotlib.figure.Figure at 0x7fb80d54b8d0>"
      ]
     },
     "metadata": {},
     "output_type": "display_data"
    }
   ],
   "source": [
    "sns.distplot(table.loc[table['diff_min'] <= 30]['diff_min']) # zoomed in on thirty minutes"
   ]
  },
  {
   "cell_type": "code",
   "execution_count": 31,
   "metadata": {
    "collapsed": false
   },
   "outputs": [
    {
     "name": "stderr",
     "output_type": "stream",
     "text": [
      "/home/vagrant/miniconda3/envs/data-science/lib/python3.5/site-packages/statsmodels/nonparametric/kdetools.py:20: VisibleDeprecationWarning: using a non-integer number instead of an integer will result in an error in the future\n",
      "  y = X[:m/2+1] + np.r_[0,X[m/2+1:],0]*1j\n"
     ]
    },
    {
     "data": {
      "text/plain": [
       "<matplotlib.axes._subplots.AxesSubplot at 0x7fb8106787f0>"
      ]
     },
     "execution_count": 31,
     "metadata": {},
     "output_type": "execute_result"
    },
    {
     "data": {
      "image/png": "[encoded data removed]",
      "text/plain": [
       "<matplotlib.figure.Figure at 0x7fb8249db5c0>"
      ]
     },
     "metadata": {},
     "output_type": "display_data"
    }
   ],
   "source": [
    "sns.distplot(table.loc[table['diff_min'] > 0.0].loc[table['diff_min'] <= 1]['diff_min'])"
   ]
  },
  {
   "cell_type": "markdown",
   "metadata": {},
   "source": [
    "**Thoughts:**\n",
    "\n",
    "Looks like there are a lot of zero response time incidents. Which is strange. I think we should do some further insight into why these exist and then determine if we should include them in the analysis. \n",
    "\n",
    "The data could fit a geometric or weibull distribution? We can look into this to find out what the average\n",
    "response times are (rather than using mean)."
   ]
  },
  {
   "cell_type": "markdown",
   "metadata": {},
   "source": [
    "**Things to do:**\n",
    "- Ignore fire teams that create incident reports, since they are not responders.\n",
    "- Find the average response times given a type of incident.\n",
    "- See if there is a good way to categorize all these incident codes.\n",
    "- Find the average response times for each of the fireblocks. \n",
    "- Generalize these methods so that we can gain this information by specific Datetime information."
   ]
  },
  {
   "cell_type": "code",
   "execution_count": 49,
   "metadata": {
    "collapsed": false
   },
   "outputs": [
    {
     "data": {
      "text/plain": [
       "fmarespcomp\n",
       "0              NaN\n",
       "01        4.616667\n",
       "02        5.766667\n",
       "03        4.866667\n",
       "04        4.633333\n",
       "05        6.133333\n",
       "06        5.808333\n",
       "07        5.066667\n",
       "08        4.533333\n",
       "09        5.100000\n",
       "1        30.916667\n",
       "10        6.433333\n",
       "11        4.883333\n",
       "12        4.916667\n",
       "13        4.916667\n",
       "14        5.566667\n",
       "15        6.400000\n",
       "16        6.916667\n",
       "17        6.916667\n",
       "18        6.350000\n",
       "19        4.950000\n",
       "20        6.383333\n",
       "21        4.833333\n",
       "210       8.283333\n",
       "22        5.566667\n",
       "23        5.966667\n",
       "24        4.933333\n",
       "25        5.333333\n",
       "26        5.066667\n",
       "27        9.016667\n",
       "28        5.116667\n",
       "29        5.933333\n",
       "30        5.300000\n",
       "31        5.233333\n",
       "32       13.483333\n",
       "61       11.416667\n",
       "62        4.583333\n",
       "62551     4.950000\n",
       "71        5.300000\n",
       "72        5.816667\n",
       "Name: diff_min, dtype: float64"
      ]
     },
     "execution_count": 49,
     "metadata": {},
     "output_type": "execute_result"
    }
   ],
   "source": [
    "table['fmarespcomp'] = table.index.get_level_values('fmarespcomp') \n",
    "fmaResponseTimes = table.groupby(['fmarespcomp'])['diff_min'].median()\n",
    "fmaResponseTimes.head(40)"
   ]
  },
  {
   "cell_type": "code",
   "execution_count": 50,
   "metadata": {
    "collapsed": false
   },
   "outputs": [
    {
     "data": {
      "text/plain": [
       "(59,)"
      ]
     },
     "execution_count": 50,
     "metadata": {},
     "output_type": "execute_result"
    }
   ],
   "source": [
    "fmaResponseTimes.shape"
   ]
  },
  {
   "cell_type": "code",
   "execution_count": 53,
   "metadata": {
    "collapsed": false
   },
   "outputs": [
    {
     "data": {
      "text/plain": [
       "fmarespcomp\n",
       "0            0\n",
       "01       73708\n",
       "02       22142\n",
       "03       50967\n",
       "04       48817\n",
       "05       13166\n",
       "06        3910\n",
       "07       74873\n",
       "08       22141\n",
       "09       28085\n",
       "1            1\n",
       "10        5975\n",
       "11       51780\n",
       "12       27689\n",
       "13       50049\n",
       "14       32134\n",
       "15        3875\n",
       "16        7784\n",
       "17       13450\n",
       "18       20901\n",
       "19       37253\n",
       "20       17031\n",
       "21       21239\n",
       "210        234\n",
       "22       23935\n",
       "23       11880\n",
       "24       25029\n",
       "25       38833\n",
       "26       20130\n",
       "27        2370\n",
       "28       26079\n",
       "29       25167\n",
       "30       36943\n",
       "31       42741\n",
       "32          83\n",
       "61          31\n",
       "62           4\n",
       "62551        1\n",
       "71        1012\n",
       "72         424\n",
       "Name: diff_min, dtype: int64"
      ]
     },
     "execution_count": 53,
     "metadata": {},
     "output_type": "execute_result"
    }
   ],
   "source": [
    "fmaCounts = table.groupby(['fmarespcomp'])['diff_min'].count()\n",
    "fmaCounts.head(40)"
   ]
  },
  {
   "cell_type": "markdown",
   "metadata": {},
   "source": [
    "## Everything below is preliminary work. It is kept for reference."
   ]
  },
  {
   "cell_type": "markdown",
   "metadata": {},
   "source": [
    "The below query is used to get response time metrics. First, notice that we select only time description id's that correspond to dispatched and onscene times. Next, we are ignoring rows where responder_id is null. This is because we don't care about BOEC times. Instead, we are only focused on response times for actual units. \n",
    "\n",
    "\n",
    "NOTE TO SELF: WE MAY WANT TO REMOVE THE RESPONDER_ID FIELD, BECAUSE IT IS CONFUSING AS HELL LOL."
   ]
  },
  {
   "cell_type": "markdown",
   "metadata": {
    "collapsed": false
   },
   "source": [
    "RESPONSE_TIME_QUERY='''\n",
    "SELECT  I.incident_id, R.responderunit_id, T.responder_id,\n",
    "        T.timedesc_id, I.typenaturecode_id, I.fireblock, T.realtime\n",
    "FROM incident as I\n",
    "INNER JOIN inctimes as T\n",
    "        ON I.incident_id = T.incident_id\n",
    "INNER JOIN responder as R\n",
    "        ON ( I.incident_id = R.incident_id AND T.responder_id = R.responder_id)\n",
    "WHERE T.timedesc_id IN (3, 5)\n",
    "        AND T.responder_id IS NOT NULL;\n",
    "'''"
   ]
  },
  {
   "cell_type": "markdown",
   "metadata": {
    "collapsed": false
   },
   "source": [
    "df = pgquery(RESPONSE_TIME_QUERY)"
   ]
  },
  {
   "cell_type": "markdown",
   "metadata": {
    "collapsed": false
   },
   "source": [
    "df.shape"
   ]
  },
  {
   "cell_type": "raw",
   "metadata": {
    "collapsed": false
   },
   "source": [
    "'''\n",
    "# don't include the responder_id, it kind of messes things up. some responders have multiple responder_ids\n",
    "# for one incident...\n",
    "#table = df.pivot_table(index=['incident_id', 'responderunit_id', 'responder_id', 'typenaturecode_id', 'fireblock'],\n",
    "#columns='timedesc_id', values='realtime', aggfunc='first')\n",
    "\n",
    "'''\n",
    "\n",
    "table = df.pivot_table(index=['incident_id', 'responderunit_id', 'typenaturecode_id', 'fireblock'],\n",
    "                      columns='timedesc_id', values='realtime', aggfunc='first')\n",
    "table.reset_index(inplace=True)\n",
    "table.rename(columns={3: 'Dispatched', 5: 'On Scene'}, inplace=True)\n",
    "table.head(20)"
   ]
  },
  {
   "cell_type": "code",
   "execution_count": null,
   "metadata": {
    "collapsed": true
   },
   "outputs": [],
   "source": []
  }
 ],
 "metadata": {
  "anaconda-cloud": {},
  "kernelspec": {
   "display_name": "Python [conda env:data-science]",
   "language": "python",
   "name": "conda-env-data-science-py"
  },
  "language_info": {
   "codemirror_mode": {
    "name": "ipython",
    "version": 3
   },
   "file_extension": ".py",
   "mimetype": "text/x-python",
   "name": "python",
   "nbconvert_exporter": "python",
   "pygments_lexer": "ipython3",
   "version": "3.5.2"
  }
 },
 "nbformat": 4,
 "nbformat_minor": 1
}
